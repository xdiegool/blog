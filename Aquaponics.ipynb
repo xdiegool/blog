{
 "cells": [
  {
   "cell_type": "markdown",
   "metadata": {},
   "source": [
    "Automated farming employ the CNC and Computer vision to automate the process on repetition of a aquaponic system. The system could be a square space static where the system move.\n",
    "Despite the AI that can use to automated the manual remove of bad weed reducing pepticides, the AI would communicate with an application to the owner about the crop and the data stored for analysis.\n",
    "We propose the review of the plant color and needs of light vs growing to employ projection of mapping of light amount and color to make more fast growing in the next project of farming."
   ]
  },
  {
   "cell_type": "code",
   "execution_count": null,
   "metadata": {},
   "outputs": [],
   "source": []
  }
 ],
 "metadata": {
  "kernelspec": {
   "display_name": "Python 3",
   "language": "python",
   "name": "python3"
  },
  "language_info": {
   "codemirror_mode": {
    "name": "ipython",
    "version": 3
   },
   "file_extension": ".py",
   "mimetype": "text/x-python",
   "name": "python",
   "nbconvert_exporter": "python",
   "pygments_lexer": "ipython3",
   "version": "3.7.0"
  }
 },
 "nbformat": 4,
 "nbformat_minor": 2
}
